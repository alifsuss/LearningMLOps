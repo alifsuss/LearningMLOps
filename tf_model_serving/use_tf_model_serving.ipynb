{
  "cells": [
    {
      "cell_type": "code",
      "execution_count": 1,
      "metadata": {
        "id": "G3VAK6a11-hb"
      },
      "outputs": [],
      "source": [
        "import json\n",
        "import requests"
      ]
    },
    {
      "cell_type": "code",
      "execution_count": 2,
      "metadata": {
        "id": "rS1ZJwzO2E2s"
      },
      "outputs": [],
      "source": [
        "import numpy as np"
      ]
    },
    {
      "cell_type": "code",
      "execution_count": 3,
      "metadata": {
        "colab": {
          "base_uri": "https://localhost:8080/"
        },
        "id": "0tCZYskW2KBz",
        "outputId": "aba67351-f3a8-41b4-da4b-d4103296b3ea"
      },
      "outputs": [
        {
          "name": "stdout",
          "output_type": "stream",
          "text": [
            "--2022-01-04 18:37:31--  https://github.com/futurexskill/ml-model-deployment/raw/main/sc.pickle\n",
            "Resolving github.com (github.com)... 20.205.243.166\n",
            "Connecting to github.com (github.com)|20.205.243.166|:443... connected.\n",
            "HTTP request sent, awaiting response... 302 Found\n",
            "Location: https://raw.githubusercontent.com/futurexskill/ml-model-deployment/main/sc.pickle [following]\n",
            "--2022-01-04 18:37:31--  https://raw.githubusercontent.com/futurexskill/ml-model-deployment/main/sc.pickle\n",
            "Resolving raw.githubusercontent.com (raw.githubusercontent.com)... 185.199.108.133, 185.199.109.133, 185.199.111.133, ...\n",
            "Connecting to raw.githubusercontent.com (raw.githubusercontent.com)|185.199.108.133|:443... connected.\n",
            "HTTP request sent, awaiting response... 200 OK\n",
            "Length: 502 [application/octet-stream]\n",
            "Saving to: ‘sc.pickle’\n",
            "\n",
            "sc.pickle           100%[===================>]     502  --.-KB/s    in 0s      \n",
            "\n",
            "2022-01-04 18:37:32 (17.1 MB/s) - ‘sc.pickle’ saved [502/502]\n",
            "\n"
          ]
        }
      ],
      "source": [
        "!wget https://github.com/futurexskill/ml-model-deployment/raw/main/sc.pickle"
      ]
    },
    {
      "cell_type": "code",
      "execution_count": 4,
      "metadata": {
        "id": "WE_4UaO42MJ5"
      },
      "outputs": [],
      "source": [
        "import pickle\n"
      ]
    },
    {
      "cell_type": "code",
      "execution_count": 5,
      "metadata": {
        "colab": {
          "base_uri": "https://localhost:8080/"
        },
        "id": "N6bxhSI52Oe6",
        "outputId": "c4dc664a-39d1-4533-916e-d885a0d5561d"
      },
      "outputs": [
        {
          "name": "stderr",
          "output_type": "stream",
          "text": [
            "/opt/anaconda3/lib/python3.8/site-packages/sklearn/base.py:310: UserWarning: Trying to unpickle estimator StandardScaler from version 0.23.1 when using version 0.24.2. This might lead to breaking code or invalid results. Use at your own risk.\n",
            "  warnings.warn(\n"
          ]
        }
      ],
      "source": [
        "scaler_colab = pickle.load(open('sc.pickle','rb'))"
      ]
    },
    {
      "cell_type": "code",
      "execution_count": 6,
      "metadata": {
        "colab": {
          "base_uri": "https://localhost:8080/"
        },
        "id": "W4ChBNZp2SA4",
        "outputId": "9414bbab-9413-4d45-f8f0-2fc12c8def5f"
      },
      "outputs": [
        {
          "data": {
            "text/plain": [
              "array([[-1.43318661, -0.47466685]])"
            ]
          },
          "execution_count": 6,
          "metadata": {},
          "output_type": "execute_result"
        }
      ],
      "source": [
        "scaler_colab.transform(np.array([[20,40000]]))"
      ]
    },
    {
      "cell_type": "code",
      "execution_count": 7,
      "metadata": {
        "colab": {
          "base_uri": "https://localhost:8080/"
        },
        "id": "OZC7rXMy2Vs4",
        "outputId": "f127d19f-23d6-409c-b832-13f2709b19a0"
      },
      "outputs": [
        {
          "data": {
            "text/plain": [
              "array([[0.23452145, 0.03675871]])"
            ]
          },
          "execution_count": 7,
          "metadata": {},
          "output_type": "execute_result"
        }
      ],
      "source": [
        "scaler_colab.transform(np.array([[42,50000]]))"
      ]
    },
    {
      "cell_type": "code",
      "execution_count": 8,
      "metadata": {
        "id": "758XUBV42bjv"
      },
      "outputs": [],
      "source": [
        "url = 'http://35.184.211.131:8501/v1/models/customer_behavior_model:predict'"
      ]
    },
    {
      "cell_type": "code",
      "execution_count": 9,
      "metadata": {
        "id": "vhxk6BSQ2hsn"
      },
      "outputs": [],
      "source": [
        "request_data = json.dumps({\"signature_name\": \"serving_default\",\n",
        "                   \"instances\": [[-1.43318661, -0.47466685],[0.2345214460208433, 0.03675871227617118]]\n",
        "})"
      ]
    },
    {
      "cell_type": "code",
      "execution_count": 10,
      "metadata": {
        "id": "TZcd-KF32ufJ"
      },
      "outputs": [],
      "source": [
        "json_response = requests.post(url,request_data)"
      ]
    },
    {
      "cell_type": "code",
      "execution_count": 11,
      "metadata": {
        "colab": {
          "base_uri": "https://localhost:8080/"
        },
        "id": "mPHCY0YY2xLv",
        "outputId": "237c5e0f-6f0a-404b-8612-0725de1e7103"
      },
      "outputs": [
        {
          "name": "stdout",
          "output_type": "stream",
          "text": [
            "{\n",
            "    \"predictions\": [[0.950677156, 0.0493228063], [0.00209558057, 0.99790442]\n",
            "    ]\n",
            "}\n"
          ]
        }
      ],
      "source": [
        "print (json_response.text)\n"
      ]
    },
    {
      "cell_type": "code",
      "execution_count": null,
      "metadata": {
        "id": "5GcqwXy62099"
      },
      "outputs": [],
      "source": []
    }
  ],
  "metadata": {
    "colab": {
      "collapsed_sections": [],
      "name": "use_tf_model_serving.ipynb",
      "provenance": []
    },
    "kernelspec": {
      "display_name": "Python 3",
      "name": "python3"
    },
    "language_info": {
      "codemirror_mode": {
        "name": "ipython",
        "version": 3
      },
      "file_extension": ".py",
      "mimetype": "text/x-python",
      "name": "python",
      "nbconvert_exporter": "python",
      "pygments_lexer": "ipython3",
      "version": "3.8.5"
    }
  },
  "nbformat": 4,
  "nbformat_minor": 0
}
